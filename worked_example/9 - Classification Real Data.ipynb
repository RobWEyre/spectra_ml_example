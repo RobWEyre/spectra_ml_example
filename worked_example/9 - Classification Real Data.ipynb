{
 "cells": [
  {
   "cell_type": "markdown",
   "metadata": {},
   "source": [
    "### Set up scikit learn and testing framework"
   ]
  },
  {
   "cell_type": "code",
   "execution_count": null,
   "metadata": {},
   "outputs": [],
   "source": [
    "%pylab inline"
   ]
  },
  {
   "cell_type": "code",
   "execution_count": null,
   "metadata": {},
   "outputs": [],
   "source": [
    "import pandas as pd\n",
    "import numpy as np\n",
    "from sklearn.metrics import f1_score, accuracy_score, make_scorer\n",
    "from sklearn.model_selection import GridSearchCV, StratifiedKFold\n",
    "from sklearn.feature_extraction.text import CountVectorizer, HashingVectorizer, TfidfVectorizer\n",
    "from sklearn.pipeline import Pipeline\n",
    "from sklearn.ensemble import RandomForestClassifier\n",
    "from sklearn.svm import SVC, LinearSVC\n",
    "\n",
    "np.random.seed(12345)"
   ]
  },
  {
   "cell_type": "code",
   "execution_count": null,
   "metadata": {},
   "outputs": [],
   "source": [
    "def train_test_split(X, y):\n",
    "    N = X.shape[0]\n",
    "    split_size = int(N/5)\n",
    "    split = int(N - 2*split_size)\n",
    "    train_X = X[:split]\n",
    "    train_y = y[:split]\n",
    "    val_X = X[split:split+split_size]\n",
    "    val_y = y[split:split+split_size]\n",
    "    test_X = X[split+split_size:]\n",
    "    test_y = y[split+split_size:]\n",
    "    \n",
    "    return train_X, train_y, val_X, val_y, test_X, test_y\n",
    "\n",
    "\n",
    "def test_model(model, params, train_X, train_y, test_X, test_y):\n",
    "    scorer = make_scorer(f1_score, greater_is_better=True) # Use mean squared error as score\n",
    "    gs = GridSearchCV(model, params, scoring=scorer, cv=StratifiedKFold(n_splits=5, shuffle=True)) # Cross-validation to pick best hyperparameter\n",
    "    gs.fit(train_X, train_y)\n",
    "    gs.best_estimator_.fit(train_X, train_y)\n",
    "    train_pred = gs.best_estimator_.predict(train_X) # Make prediction on training set\n",
    "    test_pred = gs.best_estimator_.predict(test_X) # Make prediction on test set\n",
    "    print(\"Training score: \", f1_score(train_y, train_pred))\n",
    "    print(\"Test score: \", f1_score(test_y, test_pred))\n",
    "    print(\"Test accuracy: \", accuracy_score(test_y, test_pred))\n",
    "    return gs.best_estimator_"
   ]
  },
  {
   "cell_type": "markdown",
   "metadata": {},
   "source": [
    "### Tasks\n",
    "\n",
    "1. Find the best model for classifying whether text is about the UK\n",
    "2. Find the best model for classifying whether text is about earnings\n",
    "3. Advanced: find which words are the most important for determining if text is UK or earnings"
   ]
  },
  {
   "cell_type": "markdown",
   "metadata": {},
   "source": [
    "### Load the data"
   ]
  },
  {
   "cell_type": "markdown",
   "metadata": {},
   "source": [
    "#### uk.csv is a dataset of Reuters news reports, labelled as to whether or not they are about the UK\n",
    "#### earnings.csv is a dataset of Reuters new reports, labelled as to whether or not they are about earnings"
   ]
  },
  {
   "cell_type": "code",
   "execution_count": null,
   "metadata": {},
   "outputs": [],
   "source": [
    "data = pd.read_csv(\"https://raw.githubusercontent.com/danybol/gft_ml_example/master/worked_example/uk.csv\")\n",
    "# data = pd.read_csv(\"https://raw.githubusercontent.com/danybol/gft_ml_example/master/worked_example/earnings.csv\")"
   ]
  },
  {
   "cell_type": "code",
   "execution_count": null,
   "metadata": {},
   "outputs": [],
   "source": [
    "data.head()"
   ]
  },
  {
   "cell_type": "markdown",
   "metadata": {},
   "source": [
    "### Very simple feature extraction"
   ]
  },
  {
   "cell_type": "code",
   "execution_count": null,
   "metadata": {},
   "outputs": [],
   "source": [
    "X = (data.text.str.contains('united kingdom') | data.text.str.contains('uk')).astype(int).values[:, np.newaxis]\n",
    "y = data['is_uk'].values"
   ]
  },
  {
   "cell_type": "code",
   "execution_count": null,
   "metadata": {},
   "outputs": [],
   "source": [
    "train_X, train_y, val_X, val_y, test_X, test_y = train_test_split(X, y)"
   ]
  },
  {
   "cell_type": "code",
   "execution_count": null,
   "metadata": {},
   "outputs": [],
   "source": [
    "model = Pipeline([('features', None),\n",
    "                  ('preprocess', None),\n",
    "                  ('model', None)])\n"
   ]
  },
  {
   "cell_type": "code",
   "execution_count": null,
   "metadata": {},
   "outputs": [],
   "source": [
    "params = dict(model=[LinearSVC(class_weight='balanced')], model__C=np.logspace(-1, 1))\n",
    "best_model = test_model(model, params, train_X, train_y, val_X, val_y)"
   ]
  },
  {
   "cell_type": "code",
   "execution_count": null,
   "metadata": {},
   "outputs": [],
   "source": [
    "best_model.fit(np.vstack((train_X, val_X)), np.hstack((train_y, val_y)))\n",
    "f1_score(test_y, best_model.predict(test_X))"
   ]
  }
 ],
 "metadata": {
  "kernelspec": {
   "display_name": "Python 3",
   "language": "python",
   "name": "python3"
  },
  "language_info": {
   "codemirror_mode": {
    "name": "ipython",
    "version": 3
   },
   "file_extension": ".py",
   "mimetype": "text/x-python",
   "name": "python",
   "nbconvert_exporter": "python",
   "pygments_lexer": "ipython3",
   "version": "3.6.7"
  }
 },
 "nbformat": 4,
 "nbformat_minor": 2
}
