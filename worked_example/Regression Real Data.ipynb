{
 "cells": [
  {
   "cell_type": "code",
   "execution_count": null,
   "metadata": {},
   "outputs": [],
   "source": [
    "!pip install keras"
   ]
  },
  {
   "cell_type": "code",
   "execution_count": null,
   "metadata": {},
   "outputs": [],
   "source": [
    "%pylab inline"
   ]
  },
  {
   "cell_type": "code",
   "execution_count": null,
   "metadata": {},
   "outputs": [],
   "source": [
    "import pandas as pd\n",
    "import numpy as np\n",
    "import datetime as dt\n",
    "from sklearn.model_selection import cross_val_score, TimeSeriesSplit, GridSearchCV\n",
    "from sklearn.metrics import mean_squared_error, make_scorer\n",
    "from sklearn.linear_model import LassoCV, Lasso\n",
    "from sklearn.metrics import mean_squared_error\n",
    "from sklearn.pipeline import Pipeline\n",
    "from sklearn.preprocessing import StandardScaler, PolynomialFeatures\n",
    "import seaborn"
   ]
  },
  {
   "cell_type": "code",
   "execution_count": null,
   "metadata": {},
   "outputs": [],
   "source": [
    "def train_test_split(X, y):\n",
    "    N = X.shape[0]\n",
    "    split_size = int(N/5)\n",
    "    split = int(N - 2*split_size)\n",
    "    train_X = X[:split]\n",
    "    train_y = y[:split]\n",
    "    val_X = X[split:split+split_size]\n",
    "    val_y = y[split:split+split_size]\n",
    "    test_X = X[split+split_size:]\n",
    "    test_y = y[split+split_size:]\n",
    "    \n",
    "    return train_X, train_y, val_X, val_y, test_X, test_y\n",
    "\n",
    "def test_model(model, params, train_X, train_y, test_X, test_y):\n",
    "    scorer = make_scorer(mean_squared_error, greater_is_better=False) # Use mean squared error as score\n",
    "    gs = GridSearchCV(model, params, scoring=scorer) # Cross-validation to pick best hyperparameter\n",
    "    gs.fit(train_X, train_y)\n",
    "    gs.best_estimator_.fit(train_X, train_y)\n",
    "    train_pred = gs.best_estimator_.predict(train_X) # Make prediction on training set\n",
    "    test_pred = gs.best_estimator_.predict(test_X) # Make prediction on test set\n",
    "    print(\"Training MSE: \", mean_squared_error(train_y, train_pred))\n",
    "    print(\"Test MSE: \", mean_squared_error(test_y, test_pred))\n",
    "    return gs.best_estimator_"
   ]
  },
  {
   "cell_type": "markdown",
   "metadata": {},
   "source": [
    "### Tasks\n",
    "\n",
    "1. Find the best model for predicting the returns of the S&P500\n",
    "2. Advanced: calculate the returns of your model if it was put into use"
   ]
  },
  {
   "cell_type": "markdown",
   "metadata": {},
   "source": [
    "### Load Data"
   ]
  },
  {
   "cell_type": "markdown",
   "metadata": {},
   "source": [
    "#### Data consists of log-returns of the S&P500 on a particular date, with some other indicators that might predict it."
   ]
  },
  {
   "cell_type": "code",
   "execution_count": null,
   "metadata": {},
   "outputs": [],
   "source": [
    "data = pd.read_csv(\"https://raw.githubusercontent.com/danybol/gft_ml_example/master/worked_example/real_data.csv\", parse_dates=['date'])\n",
    "data.head()"
   ]
  },
  {
   "cell_type": "code",
   "execution_count": null,
   "metadata": {},
   "outputs": [],
   "source": [
    "### Put your preprocessing code here\n",
    "\n",
    "\n"
   ]
  },
  {
   "cell_type": "code",
   "execution_count": null,
   "metadata": {},
   "outputs": [],
   "source": [
    "train_data, test_data = train_test_split(data, test_size=0.2, shuffle=False)\n",
    "train_X = train_data.drop(['returns', 'date'], axis=1)\n",
    "train_y = train_data['returns']\n",
    "test_X = test_data.drop(['returns', 'date'], axis=1)\n",
    "test_y = test_data['returns']"
   ]
  },
  {
   "cell_type": "code",
   "execution_count": null,
   "metadata": {},
   "outputs": [],
   "source": [
    "model = Pipeline([('features', None),\n",
    "                  ('preprocess', None),\n",
    "                  ('model', None)])\n"
   ]
  },
  {
   "cell_type": "code",
   "execution_count": null,
   "metadata": {},
   "outputs": [],
   "source": [
    "params = dict(model=[Lasso()], model__alpha=np.logspace(-2, 3), features=[None], preprocess=[None])\n",
    "simple_model = test_model(model, params, train_X, train_y, test_X, test_y)\n",
    "test_pred = simple_model.predict(test_X)"
   ]
  },
  {
   "cell_type": "code",
   "execution_count": null,
   "metadata": {},
   "outputs": [],
   "source": [
    "plot(test_y.values[0:10])\n",
    "plot(test_pred[0:10])"
   ]
  },
  {
   "cell_type": "code",
   "execution_count": null,
   "metadata": {},
   "outputs": [],
   "source": []
  }
 ],
 "metadata": {
  "kernelspec": {
   "display_name": "Python 3",
   "language": "python",
   "name": "python3"
  },
  "language_info": {
   "codemirror_mode": {
    "name": "ipython",
    "version": 3
   },
   "file_extension": ".py",
   "mimetype": "text/x-python",
   "name": "python",
   "nbconvert_exporter": "python",
   "pygments_lexer": "ipython3",
   "version": "3.6.7"
  }
 },
 "nbformat": 4,
 "nbformat_minor": 2
}
