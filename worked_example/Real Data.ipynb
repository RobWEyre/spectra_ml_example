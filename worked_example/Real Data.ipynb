{
 "cells": [
  {
   "cell_type": "code",
   "execution_count": 2,
   "metadata": {},
   "outputs": [
    {
     "name": "stdout",
     "output_type": "stream",
     "text": [
      "Requirement already satisfied: keras in /anaconda2/envs/gft/lib/python3.6/site-packages (2.2.4)\n",
      "Requirement already satisfied: pyyaml in /anaconda2/envs/gft/lib/python3.6/site-packages (from keras) (5.1)\n",
      "Requirement already satisfied: scipy>=0.14 in /anaconda2/envs/gft/lib/python3.6/site-packages (from keras) (1.0.0)\n",
      "Requirement already satisfied: numpy>=1.9.1 in /anaconda2/envs/gft/lib/python3.6/site-packages (from keras) (1.14.0)\n",
      "Requirement already satisfied: six>=1.9.0 in /anaconda2/envs/gft/lib/python3.6/site-packages (from keras) (1.12.0)\n",
      "Requirement already satisfied: keras-preprocessing>=1.0.5 in /anaconda2/envs/gft/lib/python3.6/site-packages (from keras) (1.0.9)\n",
      "Requirement already satisfied: h5py in /anaconda2/envs/gft/lib/python3.6/site-packages (from keras) (2.9.0)\n",
      "Requirement already satisfied: keras-applications>=1.0.6 in /anaconda2/envs/gft/lib/python3.6/site-packages (from keras) (1.0.7)\n"
     ]
    }
   ],
   "source": [
    "!pip install keras"
   ]
  },
  {
   "cell_type": "code",
   "execution_count": 3,
   "metadata": {},
   "outputs": [
    {
     "name": "stdout",
     "output_type": "stream",
     "text": [
      "Populating the interactive namespace from numpy and matplotlib\n"
     ]
    }
   ],
   "source": [
    "%pylab inline"
   ]
  },
  {
   "cell_type": "code",
   "execution_count": 6,
   "metadata": {},
   "outputs": [],
   "source": [
    "import pandas as pd\n",
    "import numpy as np\n",
    "import datetime as dt\n",
    "from sklearn.model_selection import cross_val_score, TimeSeriesSplit, GridSearchCV\n",
    "from sklearn.metrics import mean_squared_error, make_scorer\n",
    "from sklearn.linear_model import LassoCV, Lasso\n",
    "from sklearn.metrics import mean_squared_error\n",
    "from sklearn.pipeline import Pipeline\n",
    "from sklearn.preprocessing import StandardScaler, PolynomialFeatures\n",
    "import seaborn"
   ]
  },
  {
   "cell_type": "code",
   "execution_count": 7,
   "metadata": {},
   "outputs": [],
   "source": [
    "def train_test_split(X, y):\n",
    "    N = X.shape[0]\n",
    "    split_size = int(N/5)\n",
    "    split = int(N - 2*split_size)\n",
    "    train_X = X[:split]\n",
    "    train_y = y[:split]\n",
    "    val_X = X[split:split+split_size]\n",
    "    val_y = y[split:split+split_size]\n",
    "    test_X = X[split+split_size:]\n",
    "    test_y = y[split+split_size:]\n",
    "    \n",
    "    return train_X, train_y, val_X, val_y, test_X, test_y\n",
    "\n",
    "def test_model(model, params, train_X, train_y, test_X, test_y):\n",
    "    scorer = make_scorer(mean_squared_error, greater_is_better=False) # Use mean squared error as score\n",
    "    gs = GridSearchCV(model, params, scoring=scorer) # Cross-validation to pick best hyperparameter\n",
    "    gs.fit(train_X, train_y)\n",
    "    gs.best_estimator_.fit(train_X, train_y)\n",
    "    train_pred = gs.best_estimator_.predict(train_X) # Make prediction on training set\n",
    "    test_pred = gs.best_estimator_.predict(test_X) # Make prediction on test set\n",
    "    print(\"Training MSE: \", mean_squared_error(train_y, train_pred))\n",
    "    print(\"Test MSE: \", mean_squared_error(test_y, test_pred))\n",
    "    return gs.best_estimator_"
   ]
  },
  {
   "cell_type": "markdown",
   "metadata": {},
   "source": [
    "### Tasks\n",
    "\n",
    "1. Find the best model for predicting the returns of the S&P500\n",
    "2. Advanced: calculate the returns of your model if it was put into use"
   ]
  },
  {
   "cell_type": "markdown",
   "metadata": {},
   "source": [
    "### Load Data"
   ]
  },
  {
   "cell_type": "markdown",
   "metadata": {},
   "source": [
    "#### Data consists of log-returns of the S&P500 on a particular date, with some other indicators that might predict it."
   ]
  },
  {
   "cell_type": "code",
   "execution_count": 8,
   "metadata": {},
   "outputs": [
    {
     "data": {
      "text/html": [
       "<div>\n",
       "<style scoped>\n",
       "    .dataframe tbody tr th:only-of-type {\n",
       "        vertical-align: middle;\n",
       "    }\n",
       "\n",
       "    .dataframe tbody tr th {\n",
       "        vertical-align: top;\n",
       "    }\n",
       "\n",
       "    .dataframe thead th {\n",
       "        text-align: right;\n",
       "    }\n",
       "</style>\n",
       "<table border=\"1\" class=\"dataframe\">\n",
       "  <thead>\n",
       "    <tr style=\"text-align: right;\">\n",
       "      <th></th>\n",
       "      <th>date</th>\n",
       "      <th>Gold Price</th>\n",
       "      <th>USD GBP</th>\n",
       "      <th>US 10 Year Bond Price</th>\n",
       "      <th>VIX</th>\n",
       "      <th>S&amp;P500</th>\n",
       "      <th>returns</th>\n",
       "    </tr>\n",
       "  </thead>\n",
       "  <tbody>\n",
       "    <tr>\n",
       "      <th>0</th>\n",
       "      <td>2000-01-03</td>\n",
       "      <td>289.75</td>\n",
       "      <td>0.6308</td>\n",
       "      <td>93.614</td>\n",
       "      <td>21.64</td>\n",
       "      <td>1455.219971</td>\n",
       "      <td>-0.039099</td>\n",
       "    </tr>\n",
       "    <tr>\n",
       "      <th>1</th>\n",
       "      <td>2000-01-04</td>\n",
       "      <td>289.75</td>\n",
       "      <td>0.6308</td>\n",
       "      <td>93.614</td>\n",
       "      <td>21.64</td>\n",
       "      <td>1399.420044</td>\n",
       "      <td>0.001920</td>\n",
       "    </tr>\n",
       "    <tr>\n",
       "      <th>2</th>\n",
       "      <td>2000-01-05</td>\n",
       "      <td>273.35</td>\n",
       "      <td>0.6435</td>\n",
       "      <td>93.722</td>\n",
       "      <td>25.88</td>\n",
       "      <td>1402.109985</td>\n",
       "      <td>0.000955</td>\n",
       "    </tr>\n",
       "    <tr>\n",
       "      <th>3</th>\n",
       "      <td>2000-01-06</td>\n",
       "      <td>272.80</td>\n",
       "      <td>0.6692</td>\n",
       "      <td>93.809</td>\n",
       "      <td>22.36</td>\n",
       "      <td>1403.449951</td>\n",
       "      <td>0.026730</td>\n",
       "    </tr>\n",
       "    <tr>\n",
       "      <th>4</th>\n",
       "      <td>2000-01-07</td>\n",
       "      <td>272.80</td>\n",
       "      <td>0.6692</td>\n",
       "      <td>93.809</td>\n",
       "      <td>22.36</td>\n",
       "      <td>1441.469971</td>\n",
       "      <td>0.011128</td>\n",
       "    </tr>\n",
       "  </tbody>\n",
       "</table>\n",
       "</div>"
      ],
      "text/plain": [
       "        date  Gold Price  USD GBP  US 10 Year Bond Price    VIX       S&P500  \\\n",
       "0 2000-01-03      289.75   0.6308                 93.614  21.64  1455.219971   \n",
       "1 2000-01-04      289.75   0.6308                 93.614  21.64  1399.420044   \n",
       "2 2000-01-05      273.35   0.6435                 93.722  25.88  1402.109985   \n",
       "3 2000-01-06      272.80   0.6692                 93.809  22.36  1403.449951   \n",
       "4 2000-01-07      272.80   0.6692                 93.809  22.36  1441.469971   \n",
       "\n",
       "    returns  \n",
       "0 -0.039099  \n",
       "1  0.001920  \n",
       "2  0.000955  \n",
       "3  0.026730  \n",
       "4  0.011128  "
      ]
     },
     "execution_count": 8,
     "metadata": {},
     "output_type": "execute_result"
    }
   ],
   "source": [
    "data = pd.read_csv(\"./real_data.csv\", parse_dates=['date'])\n",
    "data.head()"
   ]
  },
  {
   "cell_type": "code",
   "execution_count": 9,
   "metadata": {},
   "outputs": [],
   "source": [
    "### Put your preprocessing code here\n",
    "\n",
    "\n"
   ]
  },
  {
   "cell_type": "code",
   "execution_count": 69,
   "metadata": {},
   "outputs": [],
   "source": [
    "train_data, test_data = train_test_split(data, test_size=0.2, shuffle=False)\n",
    "train_X = train_data.drop(['returns', 'date'], axis=1)\n",
    "train_y = train_data['returns']\n",
    "test_X = test_data.drop(['returns', 'date'], axis=1)\n",
    "test_y = test_data['returns']"
   ]
  },
  {
   "cell_type": "code",
   "execution_count": 73,
   "metadata": {},
   "outputs": [],
   "source": [
    "model = Pipeline([('features', None),\n",
    "                  ('preprocess', None),\n",
    "                  ('model', None)])\n"
   ]
  },
  {
   "cell_type": "code",
   "execution_count": 74,
   "metadata": {},
   "outputs": [
    {
     "name": "stdout",
     "output_type": "stream",
     "text": [
      "Training MSE:  0.00018034267636830447\n",
      "Test MSE:  7.07129469746939e-05\n"
     ]
    }
   ],
   "source": [
    "params = dict(model=[Lasso()], model__alpha=np.logspace(-2, 3), features=[None], preprocess=[None])\n",
    "simple_model = test_model(model, params, train_X, train_y, test_X, test_y)\n",
    "test_pred = simple_model.predict(test_X)"
   ]
  },
  {
   "cell_type": "code",
   "execution_count": 75,
   "metadata": {},
   "outputs": [
    {
     "data": {
      "text/plain": [
       "[<matplotlib.lines.Line2D at 0x7f6f4ef3e940>]"
      ]
     },
     "execution_count": 75,
     "metadata": {},
     "output_type": "execute_result"
    },
    {
     "data": {
      "image/png": "[encoded data removed]",
      "text/plain": [
       "<matplotlib.figure.Figure at 0x7f6f4ef3e160>"
      ]
     },
     "metadata": {
      "needs_background": "light"
     },
     "output_type": "display_data"
    }
   ],
   "source": [
    "plot(test_y.values[0:10])\n",
    "plot(test_pred[0:10])"
   ]
  },
  {
   "cell_type": "code",
   "execution_count": null,
   "metadata": {},
   "outputs": [],
   "source": []
  }
 ],
 "metadata": {
  "kernelspec": {
   "display_name": "Python 3",
   "language": "python",
   "name": "python3"
  },
  "language_info": {
   "codemirror_mode": {
    "name": "ipython",
    "version": 3
   },
   "file_extension": ".py",
   "mimetype": "text/x-python",
   "name": "python",
   "nbconvert_exporter": "python",
   "pygments_lexer": "ipython3",
   "version": "3.6.8"
  }
 },
 "nbformat": 4,
 "nbformat_minor": 2
}
